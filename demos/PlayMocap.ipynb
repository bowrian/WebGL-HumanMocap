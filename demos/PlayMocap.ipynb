{
 "cells": [
  {
   "cell_type": "code",
   "execution_count": 1,
   "metadata": {},
   "outputs": [],
   "source": [
    "%matplotlib inline\n",
    "%load_ext autoreload\n",
    "# %load_ext toc2\n",
    "%autoreload 2\n",
    "\n",
    "import matplotlib\n",
    "import matplotlib.pyplot as plt\n",
    "from mpl_toolkits.mplot3d import Axes3D\n",
    "\n",
    "# import tensorflow as tf\n",
    "import numpy as np\n",
    "import pandas as pd\n",
    "from sklearn.pipeline import Pipeline\n",
    "from sklearn.preprocessing import StandardScaler\n",
    "import pickle\n",
    "import itertools\n",
    "from datetime import datetime\n",
    "\n",
    "\n",
    "import glob\n",
    "import os\n",
    "import sys\n",
    "module_path = os.path.abspath(os.path.join('..'))\n",
    "if module_path not in sys.path:\n",
    "    sys.path.append(module_path)\n",
    "    \n",
    "import IPython\n",
    "\n",
    "from pymo.parsers import BVHParser\n",
    "from pymo.preprocessing import *\n",
    "from pymo.viz_tools import *\n",
    "from pymo.writers import *"
   ]
  },
  {
   "cell_type": "code",
   "execution_count": 2,
   "metadata": {
    "code_folding": []
   },
   "outputs": [
    {
     "ename": "IOError",
     "evalue": "[Errno 2] No such file or directory: 'data/Walking_1_1.txt'",
     "output_type": "error",
     "traceback": [
      "\u001b[0;31m---------------------------------------------------------------------------\u001b[0m",
      "\u001b[0;31mIOError\u001b[0m                                   Traceback (most recent call last)",
      "\u001b[0;32m<ipython-input-2-e71c7ef0e94e>\u001b[0m in \u001b[0;36m<module>\u001b[0;34m()\u001b[0m\n\u001b[1;32m      4\u001b[0m \u001b[0mmotion_data_temp\u001b[0m \u001b[0;34m=\u001b[0m \u001b[0mnp\u001b[0m\u001b[0;34m.\u001b[0m\u001b[0mzeros\u001b[0m\u001b[0;34m(\u001b[0m\u001b[0;34m(\u001b[0m\u001b[0;36m3476\u001b[0m\u001b[0;34m,\u001b[0m\u001b[0;36m78\u001b[0m\u001b[0;34m)\u001b[0m\u001b[0;34m,\u001b[0m\u001b[0mdtype\u001b[0m\u001b[0;34m=\u001b[0m\u001b[0mfloat\u001b[0m\u001b[0;34m)\u001b[0m\u001b[0;34m\u001b[0m\u001b[0m\n\u001b[1;32m      5\u001b[0m \u001b[0mmotion_data\u001b[0m \u001b[0;34m=\u001b[0m \u001b[0mnp\u001b[0m\u001b[0;34m.\u001b[0m\u001b[0mzeros\u001b[0m\u001b[0;34m(\u001b[0m\u001b[0;34m(\u001b[0m\u001b[0;36m3476\u001b[0m\u001b[0;34m,\u001b[0m\u001b[0;36m72\u001b[0m\u001b[0;34m)\u001b[0m\u001b[0;34m,\u001b[0m\u001b[0mdtype\u001b[0m\u001b[0;34m=\u001b[0m\u001b[0mfloat\u001b[0m\u001b[0;34m)\u001b[0m\u001b[0;34m\u001b[0m\u001b[0m\n\u001b[0;32m----> 6\u001b[0;31m \u001b[0;32mwith\u001b[0m \u001b[0mopen\u001b[0m\u001b[0;34m(\u001b[0m\u001b[0;34m'data/Walking_1_1.txt'\u001b[0m\u001b[0;34m)\u001b[0m \u001b[0;32mas\u001b[0m \u001b[0mcsvfile\u001b[0m\u001b[0;34m:\u001b[0m\u001b[0;34m\u001b[0m\u001b[0m\n\u001b[0m\u001b[1;32m      7\u001b[0m     \u001b[0mreader\u001b[0m \u001b[0;34m=\u001b[0m \u001b[0mcsv\u001b[0m\u001b[0;34m.\u001b[0m\u001b[0mreader\u001b[0m\u001b[0;34m(\u001b[0m\u001b[0mcsvfile\u001b[0m\u001b[0;34m,\u001b[0m\u001b[0mdelimiter\u001b[0m\u001b[0;34m=\u001b[0m\u001b[0;34m\",\"\u001b[0m\u001b[0;34m,\u001b[0m\u001b[0mquotechar\u001b[0m\u001b[0;34m=\u001b[0m\u001b[0;34m'|'\u001b[0m\u001b[0;34m)\u001b[0m\u001b[0;34m\u001b[0m\u001b[0m\n\u001b[1;32m      8\u001b[0m     \u001b[0mi\u001b[0m\u001b[0;34m=\u001b[0m\u001b[0;36m0\u001b[0m\u001b[0;34m\u001b[0m\u001b[0m\n",
      "\u001b[0;31mIOError\u001b[0m: [Errno 2] No such file or directory: 'data/Walking_1_1.txt'"
     ]
    }
   ],
   "source": [
    "import csv\n",
    "import numpy as np\n",
    "import math\n",
    "motion_data_temp = np.zeros((3476,78),dtype=float)\n",
    "motion_data = np.zeros((3476,72),dtype=float)\n",
    "with open('data/Walking_1_1.txt') as csvfile:\n",
    "    reader = csv.reader(csvfile,delimiter=\",\",quotechar='|')\n",
    "    i=0\n",
    "    for row in reader:\n",
    "        motion_data_temp[i,:] = np.array(row)\n",
    "        i=i+1\n",
    "print(i)\n",
    "number_of_frames = i\n",
    "skip =0\n",
    "\n",
    "#H36M_Mapping = [0,1,2,3,4,5,6,7,8,9,10,11,12]\n",
    "#H36M_Mapping = [c for c in range(0,26)]\n",
    "#print(H36M_Mapping)\n",
    "H36M_Mapping = [0,1,10,13,14,15,16,17,18,19,20,21,22,23,24,25,6,7,8,9,2,3,4,5]\n",
    "\n",
    "for frame in range(number_of_frames):\n",
    "    for i in range(26):\n",
    "\n",
    "        if i>23:\n",
    "            break;\n",
    "        if(i == 0) : \n",
    "            if(frame ==0):\n",
    "                motion_data[0,0] = -6.5115\n",
    "                motion_data[0,1] = 35.5548\n",
    "                motion_data[0,2] = -163.0160\n",
    "            else:\n",
    "#                 motion_data[frame,((i-skip)*3)+0] = motion_data_temp[frame,(i-skip)*3+0]/100\n",
    "#                 motion_data[frame,((i-skip)*3)+1] = motion_data_temp[frame,(i-skip)*3+1]/100\n",
    "#                 motion_data[frame,((i-skip)*3)+2] = motion_data_temp[frame,(i-skip)*3+2]/100\n",
    "                temp1 = motion_data_temp[frame,H36M_Mapping[i]*3+0]/10000\n",
    "                temp2 = motion_data_temp[frame,H36M_Mapping[i]*3+1]/10000\n",
    "                temp3 = motion_data_temp[frame,H36M_Mapping[i]*3+2]/10000\n",
    "        \n",
    "                motion_data[frame,((i-skip)*3)+0] = (temp2 + motion_data[frame-1,i*3+0])\n",
    "                motion_data[frame,((i-skip)*3)+1] = (temp3 + motion_data[frame-1,i*3+1])\n",
    "                motion_data[frame,((i-skip)*3)+2] = (temp1 + motion_data[frame-1,i*3+2])\n",
    "        else:\n",
    "            temp1 = motion_data_temp[frame,H36M_Mapping[i]*3+0]/10000\n",
    "            temp2 = motion_data_temp[frame,H36M_Mapping[i]*3+1]/10000\n",
    "            temp3 = motion_data_temp[frame,H36M_Mapping[i]*3+2]/10000\n",
    "                \n",
    "            motion_data[frame,((i)*3)+0] = (temp2 + motion_data_temp[frame-1,i*3+0])#*(math.pi)/180\n",
    "            motion_data[frame,((i)*3)+1] = (temp3 + motion_data_temp[frame-1,i*3+1])#*(math.pi)/180\n",
    "            motion_data[frame,((i)*3)+2] = (temp1 + motion_data_temp[frame-1,i*3+2])#*(math.pi)/180\n",
    "\n",
    "\n",
    "from shutil import copyfile\n",
    "destination_file = 'data/S1_Walking_1_1.bvh'\n",
    "copyfile('data/BVH_header', destination_file)\n",
    "with open(destination_file,'a') as f: \n",
    "    f.write(\"\\nFrames: {0}\".format(number_of_frames))\n",
    "    f.write(\"\\nFrame Time: 0.008333\\n\")\n",
    "with open(destination_file, 'a') as csvfile:\n",
    "    bvhwriter = csv.writer(csvfile, delimiter=' ',\n",
    "                            quotechar='|', quoting=csv.QUOTE_MINIMAL)\n",
    "    for i in range(number_of_frames):\n",
    "        bvhwriter.writerow(motion_data[i,:])"
   ]
  },
  {
   "cell_type": "code",
   "execution_count": 3,
   "metadata": {},
   "outputs": [
    {
     "name": "stdout",
     "output_type": "stream",
     "text": [
      "Empty DataFrame\n",
      "Columns: [Hips_Xposition, Hips_Yposition, Hips_Zposition, RightUpLeg_Xposition, RightUpLeg_Yposition, RightUpLeg_Zposition, RightLeg_Xposition, RightLeg_Yposition, RightLeg_Zposition, RightFoot_Xposition, RightFoot_Yposition, RightFoot_Zposition, RightToeBase_Xposition, RightToeBase_Yposition, RightToeBase_Zposition, RightToeBase_Nub_Xposition, RightToeBase_Nub_Yposition, RightToeBase_Nub_Zposition, LeftUpLeg_Xposition, LeftUpLeg_Yposition, LeftUpLeg_Zposition, LeftLeg_Xposition, LeftLeg_Yposition, LeftLeg_Zposition, LeftFoot_Xposition, LeftFoot_Yposition, LeftFoot_Zposition, LeftToeBase_Xposition, LeftToeBase_Yposition, LeftToeBase_Zposition, LeftToeBase_Nub_Xposition, LeftToeBase_Nub_Yposition, LeftToeBase_Nub_Zposition, Spine_Xposition, Spine_Yposition, Spine_Zposition, RightShoulder_Xposition, RightShoulder_Yposition, RightShoulder_Zposition, RightArm_Xposition, RightArm_Yposition, RightArm_Zposition, RightForeArm_Xposition, RightForeArm_Yposition, RightForeArm_Zposition, RightHand_Xposition, RightHand_Yposition, RightHand_Zposition, RightHand_End_Xposition, RightHand_End_Yposition, RightHand_End_Zposition, RightHand_End_Nub_Xposition, RightHand_End_Nub_Yposition, RightHand_End_Nub_Zposition, RightHandThumb1_Xposition, RightHandThumb1_Yposition, RightHandThumb1_Zposition, RightHandThumb1_Nub_Xposition, RightHandThumb1_Nub_Yposition, RightHandThumb1_Nub_Zposition, LeftShoulder_Xposition, LeftShoulder_Yposition, LeftShoulder_Zposition, LeftArm_Xposition, LeftArm_Yposition, LeftArm_Zposition, LeftForeArm_Xposition, LeftForeArm_Yposition, LeftForeArm_Zposition, LeftHand_Xposition, LeftHand_Yposition, LeftHand_Zposition, LeftHand_End_Xposition, LeftHand_End_Yposition, LeftHand_End_Zposition, LeftHand_End_Nub_Xposition, LeftHand_End_Nub_Yposition, LeftHand_End_Nub_Zposition, LeftHandThumb1_Xposition, LeftHandThumb1_Yposition, LeftHandThumb1_Zposition, LeftHandThumb1_Nub_Xposition, LeftHandThumb1_Nub_Yposition, LeftHandThumb1_Nub_Zposition, Head_Xposition, Head_Yposition, Head_Zposition, Head_Nub_Xposition, Head_Nub_Yposition, Head_Nub_Zposition]\n",
      "Index: []\n",
      "\n",
      "[0 rows x 90 columns]\n"
     ]
    }
   ],
   "source": [
    "p = BVHParser()\n",
    "data_all = [p.parse(destination_file)]\n",
    "# print_skel(data_all)\n",
    "BVH2Pos = MocapParameterizer('position')\n",
    "data_pos = BVH2Pos.fit_transform(data_all)\n",
    "print(data_pos[0].values[0:0])"
   ]
  },
  {
   "cell_type": "code",
   "execution_count": 4,
   "metadata": {},
   "outputs": [
    {
     "data": {
      "text/html": [
       "<iframe frameborder=\"0\" src=mocapplayer/playBuffer.html?&cz=200&order=xzyi&frame_time=0.100000&scale=2.000000 width=\"100%\" height=500></iframe><a href=mocapplayer/playBuffer.html?&cz=200&order=xzyi&frame_time=0.100000&scale=2.000000 target=\"_blank\">New Window</a>"
      ],
      "text/plain": [
       "<IPython.core.display.HTML object>"
      ]
     },
     "execution_count": 4,
     "metadata": {},
     "output_type": "execute_result"
    }
   ],
   "source": [
    "p = BVHParser()\n",
    "data_all = [p.parse('./data/AV_8Walk_Meredith_HVHA_Rep1.bvh')]\n",
    "# data_all = [p.parse('./data/motion1.bvh')]\n",
    "# data_all = [p.parse('./data/h36m_walking.bvh')]\n",
    "#data_all = [p.parse(destination_file)]\n",
    "\n",
    "BVH2Pos = MocapParameterizer('position')\n",
    "data_pos = BVH2Pos.fit_transform(data_all)\n",
    "# print_skel(data_pos)\n",
    "nb_play_mocap(data_pos[0], 'pos', scale=2, camera_z=800, frame_time=0.1, base_url='mocapplayer/playBuffer.html')"
   ]
  }
 ],
 "metadata": {
  "kernelspec": {
   "display_name": "Python 3",
   "language": "python",
   "name": "python3"
  },
  "language_info": {
   "codemirror_mode": {
    "name": "ipython",
    "version": 2
   },
   "file_extension": ".py",
   "mimetype": "text/x-python",
   "name": "python",
   "nbconvert_exporter": "python",
   "pygments_lexer": "ipython2",
   "version": "2.7.12"
  },
  "toc": {
   "base_numbering": 1,
   "nav_menu": {},
   "number_sections": true,
   "sideBar": true,
   "skip_h1_title": false,
   "title_cell": "Table of Contents",
   "title_sidebar": "Contents",
   "toc_cell": false,
   "toc_position": {},
   "toc_section_display": true,
   "toc_window_display": false
  }
 },
 "nbformat": 4,
 "nbformat_minor": 2
}
